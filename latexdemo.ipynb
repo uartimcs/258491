{
 "cells": [
  {
   "cell_type": "markdown",
   "id": "5353465a-bfae-434b-8a36-e6d141fe7971",
   "metadata": {},
   "source": [
    "#### Demonstration of MathJax ####\n",
    "https://jupyterbook.org/en/stable/content/math.html"
   ]
  },
  {
   "cell_type": "markdown",
   "id": "42b0fa4e-537f-4d43-b685-1161ca8a4a30",
   "metadata": {
    "tags": []
   },
   "source": [
    "### 1. Symbols: Greek alphabets ###\n",
    "##### **Small size letters (Bold)** #####\n",
    "$$\n",
    "\\alpha, \\beta, \\gamma, \\delta, \\epsilon, \\zeta, \\eta, \\theta, \\iota, \\kappa, \\lambda, \\mu, \\nu, \\xi, \\omicron, \\pi, \\rho, \\sigma, \\tau, \\upsilon, \\phi, \\chi, \\psi, \\omega\n",
    "$$\n",
    "##### Capital size letters *(italic)* #####\n",
    "$$\n",
    "A, B, \\Gamma, \\Delta, E, Z, H, \\Theta, I, K, \\Lambda, M, N, \\Xi, O, \\Pi, P, \\Sigma, T, \\Upsilon, \\Phi, X, \\Psi, \\Omega\n",
    "$$"
   ]
  },
  {
   "attachments": {},
   "cell_type": "markdown",
   "id": "73ffce71-f0dd-4114-9e88-05d46c3cd806",
   "metadata": {
    "tags": []
   },
   "source": [
    "### 2. Superscript and subscript, chemical formula / equations ###\n",
    "\n",
    "##### 2.1 chemical formula and equations #####\n",
    "$$2H_2 + O_2\\rightarrow2H_2O$$\n",
    "$C_{55}H_{72}MgN_4O_5$ (chlorophyll)\n",
    "\n",
    "##### 2.2 algebric expression #####\n",
    "$$a_1^2 + b_1^2 = c_1^2$$\n",
    "$$a_{11}^2 +b_{11}^2 = c_{11}^2$$\n",
    "$$x^{2} + y^{2} = z^{2}$$\n",
    "$$\n",
    "\\frac{a+b}{\\frac{X+Y}{C}}\n",
    "$$\n",
    "\n",
    "$$ 3 \\geq 2 $$\n",
    "$$ 5 \\leq 7 $$\n",
    "\n",
    "$$ 11 \\gt 10 , 10 \\lt 11$$\n",
    "\n",
    "##### 2.3 index number #####\n",
    "$$\n",
    "x^4, e^{-i\\pi}, 6x^{2x^2}\n",
    "$$\n",
    "\n",
    "$$\\sqrt{x^2 + y^2}$$"
   ]
  },
  {
   "cell_type": "markdown",
   "id": "2be3554d-584b-4d95-b562-dfe4b4b651e3",
   "metadata": {
    "tags": []
   },
   "source": [
    "### 3. Trigometric functions ###\n",
    "$$\n",
    "\\sin(\\pi)\n",
    "$$\n",
    "\n",
    "$$\n",
    "\\cos(2\\pi) \n",
    "$$\n",
    "\n",
    "$$\n",
    "\\tan(45^\\circ)\n",
    "$$\n"
   ]
  },
  {
   "cell_type": "markdown",
   "id": "1e2b074e-0c9e-4215-8000-8d52660a5970",
   "metadata": {},
   "source": [
    "### 4. Complicated Algebric expression , Differentiation and Integration ###\n",
    "\n",
    "##### 4.1 Complicated algebric expression #####\n",
    "$$\n",
    "A = A_1 + A_2 = \\pi(\\frac{d_1}{2})^2 + \\pi(\\frac{d_2}{2})^2\n",
    "$$\n",
    "\n",
    "##### 4.2 Differentiation expression #####\n",
    "\n",
    "$$\n",
    "\\frac{\\partial{A}}{\\partial{d_1}} = \\frac{\\pi(d_1)}{2}\n",
    "$$\n",
    "$$\n",
    "\\frac{\\partial{A}}{\\partial{d_2}} = \\frac{\\pi(d_2)}{2}\n",
    "$$\n",
    "\n",
    "##### 4.3 Integration #####\n",
    "\n",
    "$$\n",
    "\\int_{a}^{b} x^2 dx\n",
    "$$\n",
    "\n",
    "$$\n",
    "  \\int_0^\\infty \\frac{x^3}{e^x-1}\\,dx = \\frac{\\pi^4}{15}\n",
    "$$\n",
    "##### 4.4 Special symbols #####\n",
    "\n",
    "$$\\sum \\prod \\cup \\cap \\times \\div \\otimes \\oplus$$\n",
    "$$\\sum_{i=1}^{\\infty} \\frac{1}{n^s} \n",
    "= \\prod_p \\frac{1}{1 - p^{-s}}$$\n",
    "\n",
    "##### 4.5 Arbitary #####\n",
    "$E=mc^2, $\n",
    "$F = \\frac{9}{5} C + 32$"
   ]
  }
 ],
 "metadata": {
  "kernelspec": {
   "display_name": "Python 3 (ipykernel)",
   "language": "python",
   "name": "python3"
  },
  "language_info": {
   "codemirror_mode": {
    "name": "ipython",
    "version": 3
   },
   "file_extension": ".py",
   "mimetype": "text/x-python",
   "name": "python",
   "nbconvert_exporter": "python",
   "pygments_lexer": "ipython3",
   "version": "3.10.10"
  }
 },
 "nbformat": 4,
 "nbformat_minor": 5
}
